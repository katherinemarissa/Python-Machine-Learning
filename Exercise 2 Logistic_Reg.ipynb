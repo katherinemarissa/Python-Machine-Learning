{
 "cells": [
  {
   "cell_type": "markdown",
   "metadata": {},
   "source": [
    "## Logistic Regression Exercise"
   ]
  },
  {
   "cell_type": "raw",
   "metadata": {},
   "source": [
    "1) Load iris datasets from iris-data-clean.csv\n",
    "   Replace the values in the columns 'Class' as follows:\n",
    "     \"Setosa\" = 0\n",
    "     \"Virginica\" = 1\n",
    "     \"Versicolor\" = 2\n",
    "2) Using Logistic Regression, classify the outcome (Column : 'Class') based on the labels (Columns :'sepal length /cm', 'sepal width /cm', 'petal length /cm', 'petal width /cm')\n",
    "    a) Provide some values to predict the outcome\n",
    "    b) Validate the model - print the confusion matrix and the accuracy score\n",
    "3) Redo the above steps with any two labels\n",
    "    a) Compare the accuracy score with the model built in the above with four features"
   ]
  },
  {
   "cell_type": "code",
   "execution_count": 7,
   "metadata": {},
   "outputs": [],
   "source": [
    "import pandas as pd\n",
    "import numpy as np\n",
    "import matplotlib.pyplot as plt\n",
    "import sklearn\n",
    "from sklearn.linear_model import LogisticRegression\n",
    "from sklearn.model_selection import train_test_split"
   ]
  },
  {
   "cell_type": "code",
   "execution_count": 8,
   "metadata": {},
   "outputs": [
    {
     "data": {
      "text/html": [
       "<div>\n",
       "<style scoped>\n",
       "    .dataframe tbody tr th:only-of-type {\n",
       "        vertical-align: middle;\n",
       "    }\n",
       "\n",
       "    .dataframe tbody tr th {\n",
       "        vertical-align: top;\n",
       "    }\n",
       "\n",
       "    .dataframe thead th {\n",
       "        text-align: right;\n",
       "    }\n",
       "</style>\n",
       "<table border=\"1\" class=\"dataframe\">\n",
       "  <thead>\n",
       "    <tr style=\"text-align: right;\">\n",
       "      <th></th>\n",
       "      <th>sepal_length_cm</th>\n",
       "      <th>sepal_width_cm</th>\n",
       "      <th>petal_length_cm</th>\n",
       "      <th>petal_width_cm</th>\n",
       "      <th>class</th>\n",
       "    </tr>\n",
       "  </thead>\n",
       "  <tbody>\n",
       "    <tr>\n",
       "      <th>0</th>\n",
       "      <td>5.1</td>\n",
       "      <td>3.5</td>\n",
       "      <td>1.4</td>\n",
       "      <td>0.2</td>\n",
       "      <td>Setosa</td>\n",
       "    </tr>\n",
       "    <tr>\n",
       "      <th>1</th>\n",
       "      <td>4.9</td>\n",
       "      <td>3.0</td>\n",
       "      <td>1.4</td>\n",
       "      <td>0.2</td>\n",
       "      <td>Setosa</td>\n",
       "    </tr>\n",
       "    <tr>\n",
       "      <th>2</th>\n",
       "      <td>4.7</td>\n",
       "      <td>3.2</td>\n",
       "      <td>1.3</td>\n",
       "      <td>0.2</td>\n",
       "      <td>Setosa</td>\n",
       "    </tr>\n",
       "    <tr>\n",
       "      <th>3</th>\n",
       "      <td>4.6</td>\n",
       "      <td>3.1</td>\n",
       "      <td>1.5</td>\n",
       "      <td>0.2</td>\n",
       "      <td>Setosa</td>\n",
       "    </tr>\n",
       "    <tr>\n",
       "      <th>4</th>\n",
       "      <td>5.0</td>\n",
       "      <td>3.6</td>\n",
       "      <td>1.4</td>\n",
       "      <td>0.2</td>\n",
       "      <td>Setosa</td>\n",
       "    </tr>\n",
       "    <tr>\n",
       "      <th>...</th>\n",
       "      <td>...</td>\n",
       "      <td>...</td>\n",
       "      <td>...</td>\n",
       "      <td>...</td>\n",
       "      <td>...</td>\n",
       "    </tr>\n",
       "    <tr>\n",
       "      <th>140</th>\n",
       "      <td>6.7</td>\n",
       "      <td>3.0</td>\n",
       "      <td>5.2</td>\n",
       "      <td>2.3</td>\n",
       "      <td>Virginica</td>\n",
       "    </tr>\n",
       "    <tr>\n",
       "      <th>141</th>\n",
       "      <td>6.3</td>\n",
       "      <td>2.5</td>\n",
       "      <td>5.0</td>\n",
       "      <td>1.9</td>\n",
       "      <td>Virginica</td>\n",
       "    </tr>\n",
       "    <tr>\n",
       "      <th>142</th>\n",
       "      <td>6.5</td>\n",
       "      <td>3.0</td>\n",
       "      <td>5.2</td>\n",
       "      <td>2.0</td>\n",
       "      <td>Virginica</td>\n",
       "    </tr>\n",
       "    <tr>\n",
       "      <th>143</th>\n",
       "      <td>6.2</td>\n",
       "      <td>3.4</td>\n",
       "      <td>5.4</td>\n",
       "      <td>2.3</td>\n",
       "      <td>Virginica</td>\n",
       "    </tr>\n",
       "    <tr>\n",
       "      <th>144</th>\n",
       "      <td>5.9</td>\n",
       "      <td>3.0</td>\n",
       "      <td>5.1</td>\n",
       "      <td>1.8</td>\n",
       "      <td>Virginica</td>\n",
       "    </tr>\n",
       "  </tbody>\n",
       "</table>\n",
       "<p>145 rows × 5 columns</p>\n",
       "</div>"
      ],
      "text/plain": [
       "     sepal_length_cm  sepal_width_cm  petal_length_cm  petal_width_cm  \\\n",
       "0                5.1             3.5              1.4             0.2   \n",
       "1                4.9             3.0              1.4             0.2   \n",
       "2                4.7             3.2              1.3             0.2   \n",
       "3                4.6             3.1              1.5             0.2   \n",
       "4                5.0             3.6              1.4             0.2   \n",
       "..               ...             ...              ...             ...   \n",
       "140              6.7             3.0              5.2             2.3   \n",
       "141              6.3             2.5              5.0             1.9   \n",
       "142              6.5             3.0              5.2             2.0   \n",
       "143              6.2             3.4              5.4             2.3   \n",
       "144              5.9             3.0              5.1             1.8   \n",
       "\n",
       "         class  \n",
       "0       Setosa  \n",
       "1       Setosa  \n",
       "2       Setosa  \n",
       "3       Setosa  \n",
       "4       Setosa  \n",
       "..         ...  \n",
       "140  Virginica  \n",
       "141  Virginica  \n",
       "142  Virginica  \n",
       "143  Virginica  \n",
       "144  Virginica  \n",
       "\n",
       "[145 rows x 5 columns]"
      ]
     },
     "execution_count": 8,
     "metadata": {},
     "output_type": "execute_result"
    }
   ],
   "source": [
    "#1) Load iris datasets from 'iris-data-clean.csv'\n",
    "df = pd.read_csv('iris-data-clean.csv', header =0)\n",
    "df"
   ]
  },
  {
   "cell_type": "code",
   "execution_count": 9,
   "metadata": {},
   "outputs": [
    {
     "data": {
      "text/html": [
       "<div>\n",
       "<style scoped>\n",
       "    .dataframe tbody tr th:only-of-type {\n",
       "        vertical-align: middle;\n",
       "    }\n",
       "\n",
       "    .dataframe tbody tr th {\n",
       "        vertical-align: top;\n",
       "    }\n",
       "\n",
       "    .dataframe thead th {\n",
       "        text-align: right;\n",
       "    }\n",
       "</style>\n",
       "<table border=\"1\" class=\"dataframe\">\n",
       "  <thead>\n",
       "    <tr style=\"text-align: right;\">\n",
       "      <th></th>\n",
       "      <th>sepal_length_cm</th>\n",
       "      <th>sepal_width_cm</th>\n",
       "      <th>petal_length_cm</th>\n",
       "      <th>petal_width_cm</th>\n",
       "      <th>class</th>\n",
       "    </tr>\n",
       "  </thead>\n",
       "  <tbody>\n",
       "    <tr>\n",
       "      <th>0</th>\n",
       "      <td>5.1</td>\n",
       "      <td>3.5</td>\n",
       "      <td>1.4</td>\n",
       "      <td>0.2</td>\n",
       "      <td>0</td>\n",
       "    </tr>\n",
       "    <tr>\n",
       "      <th>1</th>\n",
       "      <td>4.9</td>\n",
       "      <td>3.0</td>\n",
       "      <td>1.4</td>\n",
       "      <td>0.2</td>\n",
       "      <td>0</td>\n",
       "    </tr>\n",
       "    <tr>\n",
       "      <th>2</th>\n",
       "      <td>4.7</td>\n",
       "      <td>3.2</td>\n",
       "      <td>1.3</td>\n",
       "      <td>0.2</td>\n",
       "      <td>0</td>\n",
       "    </tr>\n",
       "    <tr>\n",
       "      <th>3</th>\n",
       "      <td>4.6</td>\n",
       "      <td>3.1</td>\n",
       "      <td>1.5</td>\n",
       "      <td>0.2</td>\n",
       "      <td>0</td>\n",
       "    </tr>\n",
       "    <tr>\n",
       "      <th>4</th>\n",
       "      <td>5.0</td>\n",
       "      <td>3.6</td>\n",
       "      <td>1.4</td>\n",
       "      <td>0.2</td>\n",
       "      <td>0</td>\n",
       "    </tr>\n",
       "    <tr>\n",
       "      <th>...</th>\n",
       "      <td>...</td>\n",
       "      <td>...</td>\n",
       "      <td>...</td>\n",
       "      <td>...</td>\n",
       "      <td>...</td>\n",
       "    </tr>\n",
       "    <tr>\n",
       "      <th>140</th>\n",
       "      <td>6.7</td>\n",
       "      <td>3.0</td>\n",
       "      <td>5.2</td>\n",
       "      <td>2.3</td>\n",
       "      <td>1</td>\n",
       "    </tr>\n",
       "    <tr>\n",
       "      <th>141</th>\n",
       "      <td>6.3</td>\n",
       "      <td>2.5</td>\n",
       "      <td>5.0</td>\n",
       "      <td>1.9</td>\n",
       "      <td>1</td>\n",
       "    </tr>\n",
       "    <tr>\n",
       "      <th>142</th>\n",
       "      <td>6.5</td>\n",
       "      <td>3.0</td>\n",
       "      <td>5.2</td>\n",
       "      <td>2.0</td>\n",
       "      <td>1</td>\n",
       "    </tr>\n",
       "    <tr>\n",
       "      <th>143</th>\n",
       "      <td>6.2</td>\n",
       "      <td>3.4</td>\n",
       "      <td>5.4</td>\n",
       "      <td>2.3</td>\n",
       "      <td>1</td>\n",
       "    </tr>\n",
       "    <tr>\n",
       "      <th>144</th>\n",
       "      <td>5.9</td>\n",
       "      <td>3.0</td>\n",
       "      <td>5.1</td>\n",
       "      <td>1.8</td>\n",
       "      <td>1</td>\n",
       "    </tr>\n",
       "  </tbody>\n",
       "</table>\n",
       "<p>145 rows × 5 columns</p>\n",
       "</div>"
      ],
      "text/plain": [
       "     sepal_length_cm  sepal_width_cm  petal_length_cm  petal_width_cm  class\n",
       "0                5.1             3.5              1.4             0.2      0\n",
       "1                4.9             3.0              1.4             0.2      0\n",
       "2                4.7             3.2              1.3             0.2      0\n",
       "3                4.6             3.1              1.5             0.2      0\n",
       "4                5.0             3.6              1.4             0.2      0\n",
       "..               ...             ...              ...             ...    ...\n",
       "140              6.7             3.0              5.2             2.3      1\n",
       "141              6.3             2.5              5.0             1.9      1\n",
       "142              6.5             3.0              5.2             2.0      1\n",
       "143              6.2             3.4              5.4             2.3      1\n",
       "144              5.9             3.0              5.1             1.8      1\n",
       "\n",
       "[145 rows x 5 columns]"
      ]
     },
     "execution_count": 9,
     "metadata": {},
     "output_type": "execute_result"
    }
   ],
   "source": [
    "#Replace the values in the columns 'Class' as follows:\n",
    "#\"Setosa\" = 0\n",
    "#\"Virginica\" = 1\n",
    "#\"Versicolor\" = 2\n",
    "df.replace('Setosa', 0, inplace=True) \n",
    "#inplace=True - updates the df directly. \n",
    "#if inplace = false, a copy is returned and you need to save it somewhere\n",
    "df.replace('Virginica', 1, inplace=True)\n",
    "df.replace('Versicolor', 2, inplace=True)\n",
    "df"
   ]
  },
  {
   "cell_type": "code",
   "execution_count": 10,
   "metadata": {},
   "outputs": [
    {
     "data": {
      "text/html": [
       "<div>\n",
       "<style scoped>\n",
       "    .dataframe tbody tr th:only-of-type {\n",
       "        vertical-align: middle;\n",
       "    }\n",
       "\n",
       "    .dataframe tbody tr th {\n",
       "        vertical-align: top;\n",
       "    }\n",
       "\n",
       "    .dataframe thead th {\n",
       "        text-align: right;\n",
       "    }\n",
       "</style>\n",
       "<table border=\"1\" class=\"dataframe\">\n",
       "  <thead>\n",
       "    <tr style=\"text-align: right;\">\n",
       "      <th></th>\n",
       "      <th>sepal_length_cm</th>\n",
       "      <th>sepal_width_cm</th>\n",
       "      <th>petal_length_cm</th>\n",
       "      <th>petal_width_cm</th>\n",
       "    </tr>\n",
       "  </thead>\n",
       "  <tbody>\n",
       "    <tr>\n",
       "      <th>121</th>\n",
       "      <td>6.2</td>\n",
       "      <td>2.8</td>\n",
       "      <td>4.8</td>\n",
       "      <td>1.8</td>\n",
       "    </tr>\n",
       "    <tr>\n",
       "      <th>106</th>\n",
       "      <td>6.4</td>\n",
       "      <td>2.7</td>\n",
       "      <td>5.3</td>\n",
       "      <td>1.9</td>\n",
       "    </tr>\n",
       "    <tr>\n",
       "      <th>123</th>\n",
       "      <td>6.4</td>\n",
       "      <td>2.8</td>\n",
       "      <td>5.6</td>\n",
       "      <td>2.1</td>\n",
       "    </tr>\n",
       "    <tr>\n",
       "      <th>109</th>\n",
       "      <td>5.8</td>\n",
       "      <td>2.8</td>\n",
       "      <td>5.1</td>\n",
       "      <td>2.4</td>\n",
       "    </tr>\n",
       "    <tr>\n",
       "      <th>59</th>\n",
       "      <td>5.6</td>\n",
       "      <td>2.9</td>\n",
       "      <td>3.6</td>\n",
       "      <td>1.3</td>\n",
       "    </tr>\n",
       "  </tbody>\n",
       "</table>\n",
       "</div>"
      ],
      "text/plain": [
       "     sepal_length_cm  sepal_width_cm  petal_length_cm  petal_width_cm\n",
       "121              6.2             2.8              4.8             1.8\n",
       "106              6.4             2.7              5.3             1.9\n",
       "123              6.4             2.8              5.6             2.1\n",
       "109              5.8             2.8              5.1             2.4\n",
       "59               5.6             2.9              3.6             1.3"
      ]
     },
     "execution_count": 10,
     "metadata": {},
     "output_type": "execute_result"
    }
   ],
   "source": [
    "#2) Using Logistic Regression, classify the outcome (Column : 'Class') based on the \n",
    "#labels (Columns :'sepal length /cm', 'sepal width /cm', 'petal length /cm', 'petal width /cm')\n",
    "\n",
    "#NOTE: classification means trying to predict which class an entity belongs to based on its features\n",
    "#This qn does multiclass (aka multinomial) classification (i.e. 3 or more classes of outputs to choose from)\n",
    "\n",
    "logReg = LogisticRegression(solver = 'lbfgs') #instantiate solver method called 'lbfgs' so you can use it later\n",
    "\n",
    "x = df[['sepal_length_cm', 'sepal_width_cm', 'petal_length_cm', 'petal_width_cm']]\n",
    "y = df['class'] #Classification : class = 0, 1 or 2\n",
    "\n",
    "x_train, x_test, y_train, y_test = train_test_split(x, y, random_state = 0)\n",
    "#if you specify random state, the train data and test data will always be the same for the same set (no. that you set; can be any no.)\n",
    "x_train.head()"
   ]
  },
  {
   "cell_type": "code",
   "execution_count": 23,
   "metadata": {},
   "outputs": [
    {
     "data": {
      "text/plain": [
       "LogisticRegression()"
      ]
     },
     "execution_count": 23,
     "metadata": {},
     "output_type": "execute_result"
    }
   ],
   "source": [
    "logReg.fit(x_train, y_train)"
   ]
  },
  {
   "cell_type": "code",
   "execution_count": 21,
   "metadata": {},
   "outputs": [
    {
     "name": "stdout",
     "output_type": "stream",
     "text": [
      "[2]\n"
     ]
    }
   ],
   "source": [
    "#2a) Provide some values to predict the outcome\n",
    "print(logReg.predict([[6.1,2.9,4.8,1.7]])) #testing using values 6.1,2.9,4.8,1.7"
   ]
  },
  {
   "cell_type": "code",
   "execution_count": 13,
   "metadata": {},
   "outputs": [
    {
     "name": "stdout",
     "output_type": "stream",
     "text": [
      "[1]\n"
     ]
    }
   ],
   "source": [
    "#2a) Provide some values to predict the outcome\n",
    "print(logReg.predict([[6,3,5,2]])) #testing using values 6,3,5,2"
   ]
  },
  {
   "cell_type": "code",
   "execution_count": 22,
   "metadata": {},
   "outputs": [
    {
     "name": "stdout",
     "output_type": "stream",
     "text": [
      "[0 0 0 2 2 1 2 0 1 0 0 0 1 2 1 0 0 1 1 0 1 1 1 2 2 0 2 2 1 1 1 0 0 2 0 2 0]\n"
     ]
    }
   ],
   "source": [
    "#2b) Validate the model - print the confusion matrix and the accuracy score\n",
    "from sklearn.metrics import accuracy_score\n",
    "\n",
    "y_pred = logReg.predict(x_test)\n",
    "#print(y_test)\n",
    "print(y_pred)"
   ]
  },
  {
   "cell_type": "code",
   "execution_count": 15,
   "metadata": {},
   "outputs": [
    {
     "data": {
      "text/plain": [
       "0.972972972972973"
      ]
     },
     "execution_count": 15,
     "metadata": {},
     "output_type": "execute_result"
    }
   ],
   "source": [
    "#accuracy score\n",
    "accuracy_score(y_test, y_pred)"
   ]
  },
  {
   "cell_type": "code",
   "execution_count": 16,
   "metadata": {},
   "outputs": [
    {
     "data": {
      "text/plain": [
       "array([[10,  1,  0],\n",
       "       [ 0, 11,  0],\n",
       "       [ 0,  0, 15]], dtype=int64)"
      ]
     },
     "execution_count": 16,
     "metadata": {},
     "output_type": "execute_result"
    }
   ],
   "source": [
    "#confusion matrix\n",
    "from sklearn.metrics import confusion_matrix\n",
    "confusion_matrix (y_test, y_pred, labels = [2,1,0])\n",
    "#'labels' = classification labels used"
   ]
  },
  {
   "cell_type": "code",
   "execution_count": 17,
   "metadata": {},
   "outputs": [
    {
     "data": {
      "text/plain": [
       "array([[9.59754663e-01, 1.32083210e-07, 4.02452053e-02],\n",
       "       [9.56590904e-01, 3.33257970e-07, 4.34087630e-02],\n",
       "       [9.82520406e-01, 4.43837120e-08, 1.74795496e-02],\n",
       "       [2.00106281e-02, 3.43072476e-02, 9.45682124e-01],\n",
       "       [7.15973660e-03, 2.01334551e-01, 7.91505712e-01],\n",
       "       [6.79164971e-05, 8.97229962e-01, 1.02702121e-01],\n",
       "       [1.94379930e-02, 2.51974766e-02, 9.55364530e-01],\n",
       "       [9.62263597e-01, 1.42348344e-07, 3.77362608e-02],\n",
       "       [1.16958073e-04, 8.48959243e-01, 1.50923799e-01],\n",
       "       [9.48220965e-01, 2.98082237e-07, 5.17787373e-02],\n",
       "       [9.59017209e-01, 2.34867479e-07, 4.09825565e-02],\n",
       "       [9.66777041e-01, 1.16469665e-07, 3.32228423e-02],\n",
       "       [1.22672706e-04, 7.79854649e-01, 2.20022678e-01],\n",
       "       [7.09244442e-03, 7.58098783e-02, 9.17097677e-01],\n",
       "       [2.04917899e-04, 8.48832242e-01, 1.50962840e-01],\n",
       "       [9.81958926e-01, 7.84681528e-08, 1.80409954e-02],\n",
       "       [9.72642962e-01, 1.87191417e-07, 2.73568512e-02],\n",
       "       [1.95199215e-05, 9.61736530e-01, 3.82439499e-02],\n",
       "       [7.60483417e-06, 9.59557661e-01, 4.04347338e-02],\n",
       "       [9.86044772e-01, 3.02743186e-08, 1.39551977e-02],\n",
       "       [7.15490415e-04, 6.33182537e-01, 3.66101973e-01],\n",
       "       [8.46653040e-04, 5.04145129e-01, 4.95008218e-01],\n",
       "       [1.38910877e-04, 8.56173024e-01, 1.43688066e-01],\n",
       "       [3.18109549e-02, 6.07686590e-02, 9.07420386e-01],\n",
       "       [2.40759019e-02, 5.63225564e-02, 9.19601542e-01],\n",
       "       [9.76719380e-01, 1.05287586e-07, 2.32805144e-02],\n",
       "       [8.87732796e-03, 1.56284131e-01, 8.34838541e-01],\n",
       "       [1.72875731e-02, 8.33626544e-02, 8.99349772e-01],\n",
       "       [9.23107101e-04, 5.83878026e-01, 4.15198867e-01],\n",
       "       [2.31147963e-06, 9.90245555e-01, 9.75213327e-03],\n",
       "       [9.14706482e-04, 8.04383580e-01, 1.94701713e-01],\n",
       "       [9.32144879e-01, 1.13040042e-06, 6.78539903e-02],\n",
       "       [9.67953511e-01, 1.07629998e-07, 3.20463814e-02],\n",
       "       [1.85706964e-02, 1.06034474e-01, 8.75394830e-01],\n",
       "       [9.76430209e-01, 8.13438058e-08, 2.35697095e-02],\n",
       "       [1.09467155e-02, 2.50720918e-01, 7.38332366e-01],\n",
       "       [9.80852369e-01, 7.19576678e-08, 1.91475593e-02]])"
      ]
     },
     "execution_count": 17,
     "metadata": {},
     "output_type": "execute_result"
    }
   ],
   "source": [
    "# probability of getting 0 vs 1 vs 2 for each row of X values\n",
    "logReg.predict_proba(x_test)"
   ]
  }
 ],
 "metadata": {
  "kernelspec": {
   "display_name": "Python 3",
   "language": "python",
   "name": "python3"
  },
  "language_info": {
   "codemirror_mode": {
    "name": "ipython",
    "version": 3
   },
   "file_extension": ".py",
   "mimetype": "text/x-python",
   "name": "python",
   "nbconvert_exporter": "python",
   "pygments_lexer": "ipython3",
   "version": "3.8.10"
  }
 },
 "nbformat": 4,
 "nbformat_minor": 2
}
