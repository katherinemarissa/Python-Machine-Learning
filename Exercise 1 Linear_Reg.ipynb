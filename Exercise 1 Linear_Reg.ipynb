{
 "cells": [
  {
   "cell_type": "markdown",
   "metadata": {},
   "source": [
    "# Linear Regression "
   ]
  },
  {
   "cell_type": "raw",
   "metadata": {},
   "source": [
    "Creating a linear regression model to predict sales using price and promotion data."
   ]
  },
  {
   "cell_type": "raw",
   "metadata": {},
   "source": [
    "1) Load the dataset 'OmniPower.csv'\n",
    "2) Create a Linear Regression Model with two independent variables (Price and Promotion), one dependent variable (Sale)\n",
    "3) Provide input values and predict the Sale\n",
    "4) What is the R square value?"
   ]
  },
  {
   "cell_type": "code",
   "execution_count": 1,
   "metadata": {},
   "outputs": [],
   "source": [
    "import pandas as pd\n",
    "import numpy as np"
   ]
  },
  {
   "cell_type": "code",
   "execution_count": 2,
   "metadata": {},
   "outputs": [],
   "source": [
    "#1 - Load the dataset 'OmniPower.csv'\n",
    "\n",
    "df = pd.read_csv('OmniPower.csv')\n",
    "df"
   ]
  },
  {
   "cell_type": "code",
   "execution_count": 3,
   "metadata": {},
   "outputs": [],
   "source": [
    "#2 - Create a Linear Regression Model with two independent variables (Price and Promotion), \n",
    "#    one dependent variable (Sale)\n",
    "\n",
    "from sklearn import linear_model\n",
    "from sklearn.model_selection import train_test_split\n",
    "\n",
    "X = df[['Price', 'Promotion']] \n",
    "# notice that we need double square brackets to select X\n",
    "# inner bracket is a list; outer bracker accesses a subset of the original DataFrame\n",
    "y = df['Sales']\n",
    "\n",
    "#instantiate a linear regression model\n",
    "lModel = linear_model.LinearRegression()\n",
    "\n",
    "#train model to fit the training data, finding coefficient and intercept\n",
    "model = lModel.fit(X, y)"
   ]
  },
  {
   "cell_type": "code",
   "execution_count": 4,
   "metadata": {},
   "outputs": [
    {
     "name": "stdout",
     "output_type": "stream",
     "text": [
      "[3420.30952381]\n"
     ]
    }
   ],
   "source": [
    "#3 - Provide input values and predict the Sale\n",
    "print(lModel.predict([[59,200]])) #value printed = predicted sales"
   ]
  },
  {
   "cell_type": "code",
   "execution_count": 5,
   "metadata": {},
   "outputs": [
    {
     "name": "stdout",
     "output_type": "stream",
     "text": [
      "[-53.21733631   3.61305804]\n"
     ]
    }
   ],
   "source": [
    "#4 - Getting the R-square value\n",
    "print(lModel.coef_) \n",
    "#print(lModel.intercept_)\n",
    "#print(lModel.score(X,y))"
   ]
  },
  {
   "cell_type": "code",
   "execution_count": 6,
   "metadata": {},
   "outputs": [],
   "source": [
    "#Observations: The r2-score above isn't very close to 1, which implies that linear regression model doesn't fit the data well "
   ]
  },
  {
   "cell_type": "code",
   "execution_count": null,
   "metadata": {},
   "outputs": [],
   "source": []
  },
  {
   "cell_type": "code",
   "execution_count": null,
   "metadata": {},
   "outputs": [],
   "source": []
  }
 ],
 "metadata": {
  "kernelspec": {
   "display_name": "Python 3",
   "language": "python",
   "name": "python3"
  },
  "language_info": {
   "codemirror_mode": {
    "name": "ipython",
    "version": 3
   },
   "file_extension": ".py",
   "mimetype": "text/x-python",
   "name": "python",
   "nbconvert_exporter": "python",
   "pygments_lexer": "ipython3",
   "version": "3.8.10"
  }
 },
 "nbformat": 4,
 "nbformat_minor": 2
}
